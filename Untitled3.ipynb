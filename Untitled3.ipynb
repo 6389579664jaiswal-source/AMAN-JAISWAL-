{
  "nbformat": 4,
  "nbformat_minor": 0,
  "metadata": {
    "colab": {
      "provenance": [],
      "authorship_tag": "ABX9TyN6Q8L7IA7zd0lIErBU9q7c",
      "include_colab_link": true
    },
    "kernelspec": {
      "name": "python3",
      "display_name": "Python 3"
    },
    "language_info": {
      "name": "python"
    }
  },
  "cells": [
    {
      "cell_type": "markdown",
      "metadata": {
        "id": "view-in-github",
        "colab_type": "text"
      },
      "source": [
        "<a href=\"https://colab.research.google.com/github/6389579664jaiswal-source/AMAN-JAISWAL-/blob/main/Untitled3.ipynb\" target=\"_parent\"><img src=\"https://colab.research.google.com/assets/colab-badge.svg\" alt=\"Open In Colab\"/></a>"
      ]
    },
    {
      "cell_type": "code",
      "execution_count": 1,
      "metadata": {
        "colab": {
          "base_uri": "https://localhost:8080/"
        },
        "id": "mYIXeXlu4RS8",
        "outputId": "b94836f4-70b8-4c5a-86b4-73fed837cb21"
      },
      "outputs": [
        {
          "output_type": "stream",
          "name": "stdout",
          "text": [
            "Enter your age:20\n",
            "You are eligible for DL.\n"
          ]
        }
      ],
      "source": [
        "a = 18\n",
        "b = int(input(\"Enter your age:\"))\n",
        "if a<b:\n",
        "       print(\"You are eligible for DL.\")\n",
        "else:\n",
        "      print(\"You are not eligible for DL.\")"
      ]
    }
  ]
}